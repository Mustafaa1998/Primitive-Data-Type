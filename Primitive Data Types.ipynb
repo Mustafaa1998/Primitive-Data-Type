{
 "cells": [
  {
   "cell_type": "markdown",
   "metadata": {},
   "source": [
    "# Primitive Types"
   ]
  },
  {
   "cell_type": "markdown",
   "metadata": {},
   "source": [
    "## Integer"
   ]
  },
  {
   "cell_type": "code",
   "execution_count": 5,
   "metadata": {},
   "outputs": [
    {
     "name": "stdout",
     "output_type": "stream",
     "text": [
      "Enter the 1st Number: 5\n",
      "Enter the 2nd Number: 10\n",
      "Your Answer Is: 15\n"
     ]
    }
   ],
   "source": [
    "x = int(input(\"Enter the 1st Number: \"))\n",
    "y = int(input(\"Enter the 2nd Number: \"))\n",
    "sum = x + y\n",
    "print (\"Your Answer Is:\" ,sum)"
   ]
  },
  {
   "cell_type": "markdown",
   "metadata": {},
   "source": [
    "## Float"
   ]
  },
  {
   "cell_type": "code",
   "execution_count": 7,
   "metadata": {},
   "outputs": [
    {
     "name": "stdout",
     "output_type": "stream",
     "text": [
      "Enter the value of x: 4\n",
      "Square Root of The Given Number:  2.0\n"
     ]
    }
   ],
   "source": [
    "import math\n",
    "x = float(input(\"Enter the value of x: \"))\n",
    "SquareRoot = math.sqrt(x)\n",
    "print(\"Square Root of The Given Number: \" , SquareRoot)"
   ]
  },
  {
   "cell_type": "markdown",
   "metadata": {},
   "source": [
    "## Boolean"
   ]
  },
  {
   "cell_type": "code",
   "execution_count": 11,
   "metadata": {},
   "outputs": [
    {
     "name": "stdout",
     "output_type": "stream",
     "text": [
      "Enter the Bilal Age:40\n",
      "Enter the Hassan Age:30\n",
      "Hassan is elder Than Bilal:  True\n"
     ]
    }
   ],
   "source": [
    "Bilal_age = int(input(\"Enter the Bilal Age:\" ))\n",
    "Hassan_age = int(input(\"Enter the Hassan Age:\" ))\n",
    "eligibility = Bilal_age >= Hassan_age\n",
    "print(\"Hassan is elder Than Bilal: \",eligibility)"
   ]
  },
  {
   "cell_type": "markdown",
   "metadata": {},
   "source": [
    "## Strings"
   ]
  },
  {
   "cell_type": "code",
   "execution_count": 63,
   "metadata": {},
   "outputs": [
    {
     "name": "stdout",
     "output_type": "stream",
     "text": [
      "Muhammad mustafa\n",
      "mustafa\n",
      " MUSTAFA  \n",
      "1\n",
      "10\n",
      "False\n",
      "True\n",
      "True\n",
      "False\n",
      "Muhammad Mustafa\n"
     ]
    }
   ],
   "source": [
    "name = \"muhammad Mustafa\"\n",
    "print(name.capitalize())\n",
    "name1 = \"MUSTAFA\"\n",
    "print(name1.casefold())\n",
    "print(name1.center(10))\n",
    "Sentence = \"you had a great day\"\n",
    "print(Sentence.count(\"day\"))\n",
    "print(Sentence.find(\"g\"))\n",
    "age = \"33\"\n",
    "print(age.isalpha())\n",
    "print(age.isdecimal())\n",
    "print(age.isnumeric())\n",
    "print(Sentence.istitle())\n",
    "print(name.replace(\"muhammad\", \"Muhammad\"))"
   ]
  },
  {
   "cell_type": "markdown",
   "metadata": {},
   "source": [
    "# Slicing"
   ]
  },
  {
   "cell_type": "code",
   "execution_count": 65,
   "metadata": {},
   "outputs": [
    {
     "name": "stdout",
     "output_type": "stream",
     "text": [
      "Enter Your Email:mustafasaleem1998@gmail.com\n",
      "stafasa\n"
     ]
    }
   ],
   "source": [
    "Email = (input(\"Enter Your Email: \" ))\n",
    "print(Email[2:9])"
   ]
  },
  {
   "cell_type": "markdown",
   "metadata": {},
   "source": [
    "# String Indexing"
   ]
  },
  {
   "cell_type": "code",
   "execution_count": 77,
   "metadata": {},
   "outputs": [
    {
     "name": "stdout",
     "output_type": "stream",
     "text": [
      "Muhammad Mustaf\n",
      "Muhammad Mus\n",
      "Muhammad\n",
      "Mustafa\n"
     ]
    }
   ],
   "source": [
    "name = \"Muhammad Mustafa\"\n",
    "print(name[0:-1])\n",
    "print(name[0:-4])\n",
    "print(name[0:8])\n",
    "print(name[9:16])"
   ]
  },
  {
   "cell_type": "code",
   "execution_count": null,
   "metadata": {},
   "outputs": [],
   "source": []
  }
 ],
 "metadata": {
  "kernelspec": {
   "display_name": "Python 3",
   "language": "python",
   "name": "python3"
  },
  "language_info": {
   "codemirror_mode": {
    "name": "ipython",
    "version": 3
   },
   "file_extension": ".py",
   "mimetype": "text/x-python",
   "name": "python",
   "nbconvert_exporter": "python",
   "pygments_lexer": "ipython3",
   "version": "3.6.5"
  }
 },
 "nbformat": 4,
 "nbformat_minor": 2
}
