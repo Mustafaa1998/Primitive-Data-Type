{
 "cells": [
  {
   "cell_type": "markdown",
   "metadata": {},
   "source": [
    "# TUPLE UNCHANGABLE, ORDERED, INDEXED"
   ]
  },
  {
   "cell_type": "code",
   "execution_count": 8,
   "metadata": {},
   "outputs": [
    {
     "name": "stdout",
     "output_type": "stream",
     "text": [
      "('Arham', 123)\n",
      "Arham\n",
      "<class 'tuple'>\n",
      "ab\n",
      "ab ['cd'] ef\n"
     ]
    }
   ],
   "source": [
    "mytuple=(\"Arham\",123)\n",
    "print(mytuple)\n",
    "print(mytuple[0])\n",
    "print(type(mytuple))\n"
   ]
  },
  {
   "cell_type": "markdown",
   "metadata": {},
   "source": [
    "# UNPACKING TUPLE"
   ]
  },
  {
   "cell_type": "code",
   "execution_count": null,
   "metadata": {},
   "outputs": [],
   "source": [
    "#Unpacking Tuple\n",
    "mytuple2=(\"ab\",\"cd\",\"ef\")\n",
    "(green,yellow,red)=mytuple2\n",
    "print(green)\n",
    "\n",
    "#Using more than the input value\n",
    "mytuple3=(\"ab\",\"cd\",\"ef\",\"gh\")\n",
    "(green,*yellow,red)=mytuple2\n",
    "print(green,yellow,red)\n",
    "\n",
    "# mytuple4=(\"ab\",\"cd\",\"ef\",\"gh\",\"ij\")\n",
    "# (green,*yellow,red)=mytuple2;\n",
    "# print(green,*yellow,red)"
   ]
  },
  {
   "cell_type": "markdown",
   "metadata": {},
   "source": [
    "# ADD & REMOVE"
   ]
  },
  {
   "cell_type": "code",
   "execution_count": 12,
   "metadata": {},
   "outputs": [
    {
     "name": "stdout",
     "output_type": "stream",
     "text": [
      "[1, 2, 3, 4, 5, 6, 7, 7, 2]\n",
      "[1, 2, 3, 4, 5, 6, 7, 2]\n",
      "(1, 2, 3, 4, 5, 6, 7, 2)\n",
      "<class 'tuple'>\n"
     ]
    }
   ],
   "source": [
    "#Add and remove tuple\n",
    "tuple1=(1,2,3,4,5,6,7,7,2)\n",
    "temp = list(tuple1)\n",
    "print(temp)\n",
    "temp.remove(7);\n",
    "print(temp)\n",
    "tuple1= tuple(temp)\n",
    "print(tuple1)\n",
    "print(type(tuple1))"
   ]
  },
  {
   "cell_type": "markdown",
   "metadata": {},
   "source": [
    "# DELETE & APPEND"
   ]
  },
  {
   "cell_type": "code",
   "execution_count": 4,
   "metadata": {},
   "outputs": [
    {
     "name": "stdout",
     "output_type": "stream",
     "text": [
      "('ab', 'cd', 'gh', 'ij', 'kl', 'rs')\n"
     ]
    }
   ],
   "source": [
    "#Del and append in tuple\n",
    "mytuple=(\"ab\",\"cd\",\"ef\",\"gh\",\"ij\",\"kl\")\n",
    "temp=list(mytuple)\n",
    "del temp[2]\n",
    "temp.append(\"rs\")\n",
    "mytuple=tuple(temp)\n",
    "print(mytuple)"
   ]
  },
  {
   "cell_type": "code",
   "execution_count": null,
   "metadata": {},
   "outputs": [],
   "source": [
    "#Using multiple \"*\"\n",
    "mytuple=(1,2,3,4,5,6,7,8,9,10,11,12,13,14,15,16,17,18,19,20)\n",
    "(*green,yellow,red)=mytuple\n",
    "print(green)\n",
    "print(yellow)\n",
    "print(red)"
   ]
  },
  {
   "cell_type": "markdown",
   "metadata": {},
   "source": [
    "# IF USING TUPLE"
   ]
  },
  {
   "cell_type": "code",
   "execution_count": 22,
   "metadata": {},
   "outputs": [
    {
     "name": "stdout",
     "output_type": "stream",
     "text": [
      "[1, 2, 3, 4, 5, 6, 7, 8, 9, 10, 11, 12, 13, 14, 15, 16, 17, 18] 19 20\n",
      "exist\n"
     ]
    }
   ],
   "source": [
    "#If & else condition\n",
    "mytuple=(1,2,3,4,5,6,7,8,9,10,11,12,13,14,15,16,17,18,19,20)\n",
    "if 6 in mytuple:\n",
    "    print(\"exist\")\n",
    "else:\n",
    "    print(\"Not exist\")"
   ]
  },
  {
   "cell_type": "markdown",
   "metadata": {},
   "source": [
    "# SET"
   ]
  },
  {
   "cell_type": "code",
   "execution_count": 10,
   "metadata": {},
   "outputs": [
    {
     "name": "stdout",
     "output_type": "stream",
     "text": [
      "{1, 2, 3, 4} {False, True} {'student', 59083, 'Ali', 'male'}\n",
      "{1, 2, 3, 4} {False, True} {'student', 'Ali', 'male'}\n",
      "{1, 2, 3, 4} {False, True} {'student', 59083, 'Ali', 'male'}\n",
      "{1, 4, 6, 8, 9}\n",
      "{1, 4, 6, 8, 9}\n",
      "{1, 4}\n",
      "<class 'int'>\n",
      "<class 'tuple'>\n",
      "{8, 6}\n",
      "{6, 8, 9}\n"
     ]
    }
   ],
   "source": [
    "#Set\n",
    "s1={1,2,3,4}\n",
    "s2={True,1,False,0}\n",
    "s3={\"Ali\",\"male\",\"student\",59083}\n",
    "print(s1,s2,s3)\n",
    "s3.discard(59083)\n",
    "print(s1,s2,s3)\n",
    "s3.add(59083)\n",
    "print(s1,s2,s3)\n",
    "\n",
    "#Union\n",
    "s4={1,4,6,8}\n",
    "s5={1,9}\n",
    "s4=s4.union(s5)\n",
    "print(s4)\n",
    "\n",
    "s4=s4|s5\n",
    "print(s4)\n",
    "\n",
    "#Intersection\n",
    "s4={1,4,6,8}\n",
    "s5={1,4,9}\n",
    "s4=s4.intersection(s5)\n",
    "print(s4)\n",
    "\n",
    "#Integer To tuple\n",
    "t1=(2)\n",
    "print(type(t1))\n",
    "t1=(2,)\n",
    "print(type(t1))\n",
    "\n",
    "#difference\n",
    "s4={1,4,6,8}\n",
    "s5={1,4,9}\n",
    "s4=s4.difference(s5)\n",
    "print(s4)\n",
    "\n",
    "#Symmetric Difference\n",
    "s4={1,4,6,8}\n",
    "s5={1,4,9}\n",
    "s4=s4.symmetric_difference(s5)\n",
    "print(s4)\n"
   ]
  },
  {
   "cell_type": "code",
   "execution_count": null,
   "metadata": {},
   "outputs": [],
   "source": []
  }
 ],
 "metadata": {
  "kernelspec": {
   "display_name": "Python 3",
   "language": "python",
   "name": "python3"
  },
  "language_info": {
   "codemirror_mode": {
    "name": "ipython",
    "version": 3
   },
   "file_extension": ".py",
   "mimetype": "text/x-python",
   "name": "python",
   "nbconvert_exporter": "python",
   "pygments_lexer": "ipython3",
   "version": "3.6.5"
  }
 },
 "nbformat": 4,
 "nbformat_minor": 2
}
